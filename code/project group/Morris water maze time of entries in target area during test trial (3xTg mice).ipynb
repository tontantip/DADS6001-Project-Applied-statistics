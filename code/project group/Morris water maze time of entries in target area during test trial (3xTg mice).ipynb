{
  "nbformat": 4,
  "nbformat_minor": 0,
  "metadata": {
    "colab": {
      "provenance": []
    },
    "kernelspec": {
      "name": "ir",
      "display_name": "R"
    },
    "language_info": {
      "name": "R"
    }
  },
  "cells": [
    {
      "cell_type": "code",
      "source": [
        "## Morris water maze: time of entries in target area during test trial (3xTg mice)\n",
        "mice_CTRL <- c(6.83, 1.73, 3.47, 6.33, 0.2, 3.43, 2.37, 9.4, 1.52, 3.07, 3.3, 1.17, 1.93, 7.88, 3.92, 2.74)\n",
        "mice_DEF <- c(1.27, 1.11, 0.63, 0.96, 4.07, 4.57, 3.53, 3.47, 2.53, 3.83, 2.92, 4.83, 3.15, 3.1, 3.04, 1.09, 0, 0, 0.41, 0, 2.67, 3.2)"
      ],
      "metadata": {
        "id": "ZwsO_cHi9Y77"
      },
      "execution_count": 1,
      "outputs": []
    },
    {
      "cell_type": "code",
      "source": [
        "## Number of each data\n",
        "n_CTRL <- length(mice_CTRL)\n",
        "n_CTRL\n",
        "n_DEF <- length(mice_DEF)\n",
        "n_DEF"
      ],
      "metadata": {
        "colab": {
          "base_uri": "https://localhost:8080/",
          "height": 52
        },
        "id": "0W-r7o86-evl",
        "outputId": "38775e12-62d5-4e39-d28e-d76cc79af6f9"
      },
      "execution_count": 2,
      "outputs": [
        {
          "output_type": "display_data",
          "data": {
            "text/html": [
              "16"
            ],
            "text/markdown": "16",
            "text/latex": "16",
            "text/plain": [
              "[1] 16"
            ]
          },
          "metadata": {}
        },
        {
          "output_type": "display_data",
          "data": {
            "text/html": [
              "22"
            ],
            "text/markdown": "22",
            "text/latex": "22",
            "text/plain": [
              "[1] 22"
            ]
          },
          "metadata": {}
        }
      ]
    },
    {
      "cell_type": "code",
      "source": [
        "## Mean and Standard deviation\n",
        "Mean_CTRL <- mean(mice_CTRL)\n",
        "Mean_CTRL\n",
        "Mean_DEF <- mean(mice_DEF)\n",
        "Mean_DEF\n",
        "SD_CTRL <- sd(mice_CTRL)\n",
        "SD_CTRL\n",
        "SD_DEF <- sd(mice_DEF)\n",
        "SD_DEF\n"
      ],
      "metadata": {
        "colab": {
          "base_uri": "https://localhost:8080/",
          "height": 86
        },
        "id": "A3w5FRGQ-jAM",
        "outputId": "e35e88d7-1beb-41ad-d273-e1aeaac45438"
      },
      "execution_count": 3,
      "outputs": [
        {
          "output_type": "display_data",
          "data": {
            "text/html": [
              "3.705625"
            ],
            "text/markdown": "3.705625",
            "text/latex": "3.705625",
            "text/plain": [
              "[1] 3.705625"
            ]
          },
          "metadata": {}
        },
        {
          "output_type": "display_data",
          "data": {
            "text/html": [
              "2.29"
            ],
            "text/markdown": "2.29",
            "text/latex": "2.29",
            "text/plain": [
              "[1] 2.29"
            ]
          },
          "metadata": {}
        },
        {
          "output_type": "display_data",
          "data": {
            "text/html": [
              "2.5886211741646"
            ],
            "text/markdown": "2.5886211741646",
            "text/latex": "2.5886211741646",
            "text/plain": [
              "[1] 2.588621"
            ]
          },
          "metadata": {}
        },
        {
          "output_type": "display_data",
          "data": {
            "text/html": [
              "1.56097039415505"
            ],
            "text/markdown": "1.56097039415505",
            "text/latex": "1.56097039415505",
            "text/plain": [
              "[1] 1.56097"
            ]
          },
          "metadata": {}
        }
      ]
    },
    {
      "cell_type": "code",
      "source": [
        "## boxplot\n",
        "boxplot(mice_CTRL, mice_DEF,\n",
        "names = c(\"Control\", \"Lithium Deficiency\"),\n",
        "main = \"Lithium Deficiency in Mouse Models\",\n",
        "ylab = \"Time spent in target area (sec)\",\n",
        "col = c(\"skyblue\", \"lightcoral\"),\n",
        "border = \"gray40\")\n",
        "points(1, mean(mice_CTRL), col = \"blue\", pch = 19)\n",
        "points(2, mean(mice_DEF), col = \"red\", pch = 19)"
      ],
      "metadata": {
        "colab": {
          "base_uri": "https://localhost:8080/",
          "height": 437
        },
        "id": "ap-z_re1-j9M",
        "outputId": "c2dfb6f4-1224-4d4f-b88f-a32ad9f790bd"
      },
      "execution_count": 4,
      "outputs": [
        {
          "output_type": "display_data",
          "data": {
            "text/plain": [
              "Plot with title “Lithium Deficiency in Mouse Models”"
            ],
            "image/png": "[encoded data removed]"
          },
          "metadata": {
            "image/png": {
              "width": 420,
              "height": 420
            }
          }
        }
      ]
    },
    {
      "cell_type": "code",
      "source": [
        "## Normality\n",
        "shapiro.test(mice_CTRL)\n",
        "shapiro.test(mice_DEF)\n",
        "\n",
        "## Homogeneity of Variances\n",
        "var.test(mice_DEF, mice_CTRL, alternative = \"two.sided\")"
      ],
      "metadata": {
        "colab": {
          "base_uri": "https://localhost:8080/",
          "height": 381
        },
        "id": "ub81efFQ-l2k",
        "outputId": "22f50496-bc2c-4f8a-ca3e-75edeacb1d58"
      },
      "execution_count": 5,
      "outputs": [
        {
          "output_type": "display_data",
          "data": {
            "text/plain": [
              "\n",
              "\tShapiro-Wilk normality test\n",
              "\n",
              "data:  mice_CTRL\n",
              "W = 0.90422, p-value = 0.09394\n"
            ]
          },
          "metadata": {}
        },
        {
          "output_type": "display_data",
          "data": {
            "text/plain": [
              "\n",
              "\tShapiro-Wilk normality test\n",
              "\n",
              "data:  mice_DEF\n",
              "W = 0.92005, p-value = 0.0762\n"
            ]
          },
          "metadata": {}
        },
        {
          "output_type": "display_data",
          "data": {
            "text/plain": [
              "\n",
              "\tF test to compare two variances\n",
              "\n",
              "data:  mice_DEF and mice_CTRL\n",
              "F = 0.36362, num df = 21, denom df = 15, p-value = 0.03331\n",
              "alternative hypothesis: true ratio of variances is not equal to 1\n",
              "95 percent confidence interval:\n",
              " 0.1326963 0.9213364\n",
              "sample estimates:\n",
              "ratio of variances \n",
              "         0.3636238 \n"
            ]
          },
          "metadata": {}
        }
      ]
    },
    {
      "cell_type": "code",
      "source": [
        "## Two Sample t-test\n",
        "t.test(mice_DEF, mice_CTRL, alternative = \"greater\" , var.test = FALSE, conf.level = 0.95)"
      ],
      "metadata": {
        "colab": {
          "base_uri": "https://localhost:8080/",
          "height": 208
        },
        "id": "PAOUrSC_-pZ7",
        "outputId": "5940fcad-73b3-4a3b-d34c-bff7d2ae2cff"
      },
      "execution_count": 6,
      "outputs": [
        {
          "output_type": "display_data",
          "data": {
            "text/plain": [
              "\n",
              "\tWelch Two Sample t-test\n",
              "\n",
              "data:  mice_DEF and mice_CTRL\n",
              "t = -1.9453, df = 22.842, p-value = 0.9679\n",
              "alternative hypothesis: true difference in means is greater than 0\n",
              "95 percent confidence interval:\n",
              " -2.663194       Inf\n",
              "sample estimates:\n",
              "mean of x mean of y \n",
              " 2.290000  3.705625 \n"
            ]
          },
          "metadata": {}
        }
      ]
    }
  ]
}
