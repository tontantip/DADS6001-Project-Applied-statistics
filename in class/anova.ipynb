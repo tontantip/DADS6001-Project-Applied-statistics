{
  "nbformat": 4,
  "nbformat_minor": 0,
  "metadata": {
    "colab": {
      "provenance": [],
      "authorship_tag": "ABX9TyOZo7hA9ADhNz6BB/tO38cO",
      "include_colab_link": true
    },
    "kernelspec": {
      "name": "ir",
      "display_name": "R"
    },
    "language_info": {
      "name": "R"
    }
  },
  "cells": [
    {
      "cell_type": "markdown",
      "metadata": {
        "id": "view-in-github",
        "colab_type": "text"
      },
      "source": [
        "<a href=\"https://colab.research.google.com/github/tontantip/DADS6001-Applied-statistics/blob/main/in%20class/anova.ipynb\" target=\"_parent\"><img src=\"https://colab.research.google.com/assets/colab-badge.svg\" alt=\"Open In Colab\"/></a>"
      ]
    },
    {
      "cell_type": "markdown",
      "source": [
        "##Starting salary of graduated college students"
      ],
      "metadata": {
        "id": "zjGDGj7WYlM2"
      }
    },
    {
      "cell_type": "code",
      "execution_count": 1,
      "metadata": {
        "colab": {
          "base_uri": "https://localhost:8080/",
          "height": 104
        },
        "id": "gX9Bqd-_JH00",
        "outputId": "e48e99ae-2857-4d17-bb18-15faacdfd572"
      },
      "outputs": [
        {
          "output_type": "display_data",
          "data": {
            "text/plain": [
              "\n",
              "\tShapiro-Wilk normality test\n",
              "\n",
              "data:  salary[uni == \"1\"]\n",
              "W = 0.97133, p-value = 0.8497\n"
            ]
          },
          "metadata": {}
        }
      ],
      "source": [
        "salary<-c(17.4,16.5,17.2,16.9,17.5,16.8,17.4,17.6,18.2,15.6,13.5,16.3,15.2)\n",
        "uni <- c(rep(\"1\",4), rep(\"2\",5), rep(\"3\",4))\n",
        "my.dat <- data.frame(salary,uni)\n",
        "with(my.dat, shapiro.test(salary[uni==\"1\"]))"
      ]
    },
    {
      "cell_type": "code",
      "source": [
        "my.dat"
      ],
      "metadata": {
        "colab": {
          "base_uri": "https://localhost:8080/",
          "height": 523
        },
        "id": "euUNA9nlYO5U",
        "outputId": "19fe4608-1365-423a-e105-7ebeb27ea90a"
      },
      "execution_count": 6,
      "outputs": [
        {
          "output_type": "display_data",
          "data": {
            "text/html": [
              "<table class=\"dataframe\">\n",
              "<caption>A data.frame: 13 × 2</caption>\n",
              "<thead>\n",
              "\t<tr><th scope=col>salary</th><th scope=col>uni</th></tr>\n",
              "\t<tr><th scope=col>&lt;dbl&gt;</th><th scope=col>&lt;chr&gt;</th></tr>\n",
              "</thead>\n",
              "<tbody>\n",
              "\t<tr><td>17.4</td><td>1</td></tr>\n",
              "\t<tr><td>16.5</td><td>1</td></tr>\n",
              "\t<tr><td>17.2</td><td>1</td></tr>\n",
              "\t<tr><td>16.9</td><td>1</td></tr>\n",
              "\t<tr><td>17.5</td><td>2</td></tr>\n",
              "\t<tr><td>16.8</td><td>2</td></tr>\n",
              "\t<tr><td>17.4</td><td>2</td></tr>\n",
              "\t<tr><td>17.6</td><td>2</td></tr>\n",
              "\t<tr><td>18.2</td><td>2</td></tr>\n",
              "\t<tr><td>15.6</td><td>3</td></tr>\n",
              "\t<tr><td>13.5</td><td>3</td></tr>\n",
              "\t<tr><td>16.3</td><td>3</td></tr>\n",
              "\t<tr><td>15.2</td><td>3</td></tr>\n",
              "</tbody>\n",
              "</table>\n"
            ],
            "text/markdown": "\nA data.frame: 13 × 2\n\n| salary &lt;dbl&gt; | uni &lt;chr&gt; |\n|---|---|\n| 17.4 | 1 |\n| 16.5 | 1 |\n| 17.2 | 1 |\n| 16.9 | 1 |\n| 17.5 | 2 |\n| 16.8 | 2 |\n| 17.4 | 2 |\n| 17.6 | 2 |\n| 18.2 | 2 |\n| 15.6 | 3 |\n| 13.5 | 3 |\n| 16.3 | 3 |\n| 15.2 | 3 |\n\n",
            "text/latex": "A data.frame: 13 × 2\n\\begin{tabular}{ll}\n salary & uni\\\\\n <dbl> & <chr>\\\\\n\\hline\n\t 17.4 & 1\\\\\n\t 16.5 & 1\\\\\n\t 17.2 & 1\\\\\n\t 16.9 & 1\\\\\n\t 17.5 & 2\\\\\n\t 16.8 & 2\\\\\n\t 17.4 & 2\\\\\n\t 17.6 & 2\\\\\n\t 18.2 & 2\\\\\n\t 15.6 & 3\\\\\n\t 13.5 & 3\\\\\n\t 16.3 & 3\\\\\n\t 15.2 & 3\\\\\n\\end{tabular}\n",
            "text/plain": [
              "   salary uni\n",
              "1  17.4   1  \n",
              "2  16.5   1  \n",
              "3  17.2   1  \n",
              "4  16.9   1  \n",
              "5  17.5   2  \n",
              "6  16.8   2  \n",
              "7  17.4   2  \n",
              "8  17.6   2  \n",
              "9  18.2   2  \n",
              "10 15.6   3  \n",
              "11 13.5   3  \n",
              "12 16.3   3  \n",
              "13 15.2   3  "
            ]
          },
          "metadata": {}
        }
      ]
    },
    {
      "cell_type": "code",
      "source": [
        "with(my.dat, shapiro.test(salary[uni==\"2\"]))"
      ],
      "metadata": {
        "colab": {
          "base_uri": "https://localhost:8080/",
          "height": 104
        },
        "id": "ObH9T6wxXins",
        "outputId": "ed5f95f4-1f56-4cbf-8ea8-481ea4dfceda"
      },
      "execution_count": 2,
      "outputs": [
        {
          "output_type": "display_data",
          "data": {
            "text/plain": [
              "\n",
              "\tShapiro-Wilk normality test\n",
              "\n",
              "data:  salary[uni == \"2\"]\n",
              "W = 0.95798, p-value = 0.7939\n"
            ]
          },
          "metadata": {}
        }
      ]
    },
    {
      "cell_type": "code",
      "source": [
        "with(my.dat, shapiro.test(salary[uni==\"3\"]))"
      ],
      "metadata": {
        "colab": {
          "base_uri": "https://localhost:8080/",
          "height": 104
        },
        "id": "quYWihV4X1_M",
        "outputId": "8cdb5e8c-8ec9-4387-8d9f-0d58ad1bf6a4"
      },
      "execution_count": 3,
      "outputs": [
        {
          "output_type": "display_data",
          "data": {
            "text/plain": [
              "\n",
              "\tShapiro-Wilk normality test\n",
              "\n",
              "data:  salary[uni == \"3\"]\n",
              "W = 0.93261, p-value = 0.6098\n"
            ]
          },
          "metadata": {}
        }
      ]
    },
    {
      "cell_type": "code",
      "source": [
        "\n",
        "##install.packages(\"car\")"
      ],
      "metadata": {
        "colab": {
          "base_uri": "https://localhost:8080/",
          "height": 106
        },
        "id": "Q3DQpt7pX9iU",
        "outputId": "d7098955-ac24-4998-8103-358819357aee"
      },
      "execution_count": 16,
      "outputs": [
        {
          "output_type": "error",
          "ename": "ERROR",
          "evalue": "Error in parse(text = input): <text>:1:1: unexpected SPECIAL\n1: %%\n    ^\n",
          "traceback": [
            "Error in parse(text = input): <text>:1:1: unexpected SPECIAL\n1: %%\n    ^\nTraceback:\n"
          ]
        }
      ]
    },
    {
      "cell_type": "code",
      "source": [
        "aov.model <- aov(salary ~ uni)\n",
        "library(car)\n",
        "leveneTest(aov.model ,center=mean)"
      ],
      "metadata": {
        "colab": {
          "base_uri": "https://localhost:8080/",
          "height": 106
        },
        "id": "_3syaQwvX4Hd",
        "outputId": "17032845-0c22-4c2a-e995-58f60ac42d06"
      },
      "execution_count": 4,
      "outputs": [
        {
          "output_type": "error",
          "ename": "ERROR",
          "evalue": "Error in library(car): there is no package called ‘car’\n",
          "traceback": [
            "Error in library(car): there is no package called ‘car’\nTraceback:\n",
            "1. stop(packageNotFoundError(package, lib.loc, sys.call()))"
          ]
        }
      ]
    },
    {
      "cell_type": "markdown",
      "source": [
        "## EX1"
      ],
      "metadata": {
        "id": "K9ceIc6KdZty"
      }
    },
    {
      "cell_type": "code",
      "source": [
        "bac<-c(51,5,19,18,58,50,82,17,70,164,88,111,73,119,20,95,84,51,110,67,119,108,207,102,74,135,102,124,105,130,170,87)\n",
        "uni <- c(rep(\"ALS\",8), rep(\"AS\",8), rep(\"S\",8),rep(\"W\",8))\n",
        "my.dat <- data.frame(bac,uni)\n",
        "with(my.dat                                                                                                                                                                                                                                                                                                                                                                                                                                                                                                                                                                                                                                                                                                                                                                                                                                                                                                                                                                                                                                                                                                                                                                                                                                                                                                                                                                                                                                                                                                                                                                                                                                                                                                                                                                                                                                                                                                                                                                                                                                                                                                                                                                                                                                                                                                                                                                                                                                                                                                                                                                                                                                                                                                             , shapiro.test(bac[uni==\"ALS\"]))\n",
        "with(my.dat, shapiro.test(bac[uni==\"AS\"]))\n",
        "with(my.dat, shapiro.test(bac[uni==\"S\"]))\n",
        "with(my.dat, shapiro.test(bac[uni==\"W\"]))"
      ],
      "metadata": {
        "colab": {
          "base_uri": "https://localhost:8080/",
          "height": 364
        },
        "id": "s083On6IY6Ms",
        "outputId": "0d86a6d7-5bda-4d4e-bfd2-ea1a772cb23f"
      },
      "execution_count": 11,
      "outputs": [
        {
          "output_type": "display_data",
          "data": {
            "text/plain": [
              "\n",
              "\tShapiro-Wilk normality test\n",
              "\n",
              "data:  bac[uni == \"ALS\"]\n",
              "W = 0.91146, p-value = 0.3644\n"
            ]
          },
          "metadata": {}
        },
        {
          "output_type": "display_data",
          "data": {
            "text/plain": [
              "\n",
              "\tShapiro-Wilk normality test\n",
              "\n",
              "data:  bac[uni == \"AS\"]\n",
              "W = 0.97591, p-value = 0.9399\n"
            ]
          },
          "metadata": {}
        },
        {
          "output_type": "display_data",
          "data": {
            "text/plain": [
              "\n",
              "\tShapiro-Wilk normality test\n",
              "\n",
              "data:  bac[uni == \"S\"]\n",
              "W = 0.86766, p-value = 0.143\n"
            ]
          },
          "metadata": {}
        },
        {
          "output_type": "display_data",
          "data": {
            "text/plain": [
              "\n",
              "\tShapiro-Wilk normality test\n",
              "\n",
              "data:  bac[uni == \"W\"]\n",
              "W = 0.97226, p-value = 0.9151\n"
            ]
          },
          "metadata": {}
        }
      ]
    },
    {
      "cell_type": "code",
      "source": [
        "\n",
        "aov.model <- aov(bac ~ uni)\n",
        "library(car)\n",
        "leveneTest(aov.model ,center=mean)"
      ],
      "metadata": {
        "colab": {
          "base_uri": "https://localhost:8080/",
          "height": 195
        },
        "id": "NV-EB95UaU8N",
        "outputId": "057fb935-eab3-4c3d-efe7-fdd5e54829be"
      },
      "execution_count": 20,
      "outputs": [
        {
          "output_type": "stream",
          "name": "stderr",
          "text": [
            "Warning message in leveneTest.default(y = y, group = group, ...):\n",
            "“group coerced to factor.”\n"
          ]
        },
        {
          "output_type": "display_data",
          "data": {
            "text/html": [
              "<table class=\"dataframe\">\n",
              "<caption>A anova: 2 × 3</caption>\n",
              "<thead>\n",
              "\t<tr><th></th><th scope=col>Df</th><th scope=col>F value</th><th scope=col>Pr(&gt;F)</th></tr>\n",
              "\t<tr><th></th><th scope=col>&lt;int&gt;</th><th scope=col>&lt;dbl&gt;</th><th scope=col>&lt;dbl&gt;</th></tr>\n",
              "</thead>\n",
              "<tbody>\n",
              "\t<tr><th scope=row>group</th><td> 3</td><td>0.2018333</td><td>0.8942386</td></tr>\n",
              "\t<tr><th scope=row> </th><td>28</td><td>       NA</td><td>       NA</td></tr>\n",
              "</tbody>\n",
              "</table>\n"
            ],
            "text/markdown": "\nA anova: 2 × 3\n\n| <!--/--> | Df &lt;int&gt; | F value &lt;dbl&gt; | Pr(&gt;F) &lt;dbl&gt; |\n|---|---|---|---|\n| group |  3 | 0.2018333 | 0.8942386 |\n| <!----> | 28 |        NA |        NA |\n\n",
            "text/latex": "A anova: 2 × 3\n\\begin{tabular}{r|lll}\n  & Df & F value & Pr(>F)\\\\\n  & <int> & <dbl> & <dbl>\\\\\n\\hline\n\tgroup &  3 & 0.2018333 & 0.8942386\\\\\n\t  & 28 &        NA &        NA\\\\\n\\end{tabular}\n",
            "text/plain": [
              "      Df F value   Pr(>F)   \n",
              "group  3 0.2018333 0.8942386\n",
              "      28        NA        NA"
            ]
          },
          "metadata": {}
        }
      ]
    },
    {
      "cell_type": "code",
      "source": [
        "summary(aov.model)"
      ],
      "metadata": {
        "colab": {
          "base_uri": "https://localhost:8080/",
          "height": 104
        },
        "id": "weFJpSofdQG7",
        "outputId": "ac6b31df-16f0-49e4-e9d2-4f07e69862f1"
      },
      "execution_count": 21,
      "outputs": [
        {
          "output_type": "display_data",
          "data": {
            "text/plain": [
              "            Df Sum Sq Mean Sq F value  Pr(>F)   \n",
              "uni          3  29372    9791   7.001 0.00117 **\n",
              "Residuals   28  39159    1399                   \n",
              "---\n",
              "Signif. codes:  0 ‘***’ 0.001 ‘**’ 0.01 ‘*’ 0.05 ‘.’ 0.1 ‘ ’ 1"
            ]
          },
          "metadata": {}
        }
      ]
    },
    {
      "cell_type": "markdown",
      "source": [
        "##Tukey\n"
      ],
      "metadata": {
        "id": "0TWvxsB_ecok"
      }
    },
    {
      "cell_type": "code",
      "source": [
        "TukeyHSD(aov.model)"
      ],
      "metadata": {
        "colab": {
          "base_uri": "https://localhost:8080/",
          "height": 243
        },
        "id": "Bx5ws55Heea5",
        "outputId": "846b266d-9032-4fe9-cd97-ac8f71858e3c"
      },
      "execution_count": 22,
      "outputs": [
        {
          "output_type": "display_data",
          "data": {
            "text/plain": [
              "  Tukey multiple comparisons of means\n",
              "    95% family-wise confidence level\n",
              "\n",
              "Fit: aov(formula = bac ~ uni)\n",
              "\n",
              "$uni\n",
              "         diff        lwr       upr     p adj\n",
              "AS-ALS 55.000   3.947349 106.05265 0.0310857\n",
              "S-ALS  68.500  17.447349 119.55265 0.0053573\n",
              "W-ALS  78.375  27.322349 129.42765 0.0013571\n",
              "S-AS   13.500 -37.552651  64.55265 0.8874937\n",
              "W-AS   23.375 -27.677651  74.42765 0.6011987\n",
              "W-S     9.875 -41.177651  60.92765 0.9515365\n"
            ]
          },
          "metadata": {}
        }
      ]
    },
    {
      "cell_type": "code",
      "source": [
        "## q tukey\n",
        "qtukey(0.95,4,28)\n",
        "## HSD\n",
        "qtukey(0.95,4,28)*sqrt(1398.53/8)"
      ],
      "metadata": {
        "id": "Fpl0XX_of8OS",
        "outputId": "b104f1fe-e5f3-4100-9df8-cbe201b15c4a",
        "colab": {
          "base_uri": "https://localhost:8080/",
          "height": 52
        }
      },
      "execution_count": 42,
      "outputs": [
        {
          "output_type": "display_data",
          "data": {
            "text/html": [
              "3.86124366161227"
            ],
            "text/markdown": "3.86124366161227",
            "text/latex": "3.86124366161227",
            "text/plain": [
              "[1] 3.861244"
            ]
          },
          "metadata": {}
        },
        {
          "output_type": "display_data",
          "data": {
            "text/html": [
              "51.0526286446573"
            ],
            "text/markdown": "51.0526286446573",
            "text/latex": "51.0526286446573",
            "text/plain": [
              "[1] 51.05263"
            ]
          },
          "metadata": {}
        }
      ]
    },
    {
      "cell_type": "code",
      "source": [
        "##install.packages(\"agricolae\")"
      ],
      "metadata": {
        "id": "AECbKgjIg1x6",
        "outputId": "47b6a149-6633-40de-9320-ebe357f32ae5",
        "colab": {
          "base_uri": "https://localhost:8080/"
        }
      },
      "execution_count": 26,
      "outputs": [
        {
          "output_type": "stream",
          "name": "stderr",
          "text": [
            "Installing package into ‘/usr/local/lib/R/site-library’\n",
            "(as ‘lib’ is unspecified)\n",
            "\n",
            "also installing the dependency ‘AlgDesign’\n",
            "\n",
            "\n"
          ]
        }
      ]
    },
    {
      "cell_type": "code",
      "source": [
        "library(agricolae)\n",
        "duncan.test(aov.model,\"uni\",alpha=0.05,console=TRUE)\n"
      ],
      "metadata": {
        "id": "XusM6iLfg0E7",
        "outputId": "60fc3dab-73d0-4a20-cea7-950dc623d3cd",
        "colab": {
          "base_uri": "https://localhost:8080/"
        }
      },
      "execution_count": 27,
      "outputs": [
        {
          "output_type": "stream",
          "name": "stdout",
          "text": [
            "\n",
            "Study: aov.model ~ \"uni\"\n",
            "\n",
            "Duncan's new multiple range test\n",
            "for bac \n",
            "\n",
            "Mean Square Error:  1398.531 \n",
            "\n",
            "uni,  means\n",
            "\n",
            "        bac      std r       se Min Max   Q25   Q50    Q75\n",
            "ALS  37.500 26.55991 8 13.22182   5  82 17.75  34.5  52.75\n",
            "AS   92.500 41.96257 8 13.22182  20 164 72.25  91.5 113.00\n",
            "S   106.000 46.95895 8 13.22182  51 207 79.75 105.0 112.25\n",
            "W   115.875 30.37592 8 13.22182  74 170 98.25 114.5 131.25\n",
            "\n",
            "Alpha: 0.05 ; DF Error: 28 \n",
            "\n",
            "Critical Range\n",
            "       2        3        4 \n",
            "38.30208 40.24518 41.50141 \n",
            "\n",
            "Means with the same letter are not significantly different.\n",
            "\n",
            "        bac groups\n",
            "W   115.875      a\n",
            "S   106.000      a\n",
            "AS   92.500      a\n",
            "ALS  37.500      b\n"
          ]
        }
      ]
    }
  ]
}