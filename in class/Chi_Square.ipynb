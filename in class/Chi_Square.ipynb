{
  "nbformat": 4,
  "nbformat_minor": 0,
  "metadata": {
    "colab": {
      "provenance": [],
      "authorship_tag": "ABX9TyNbmfak/fONDbtU6TXRp3QR",
      "include_colab_link": true
    },
    "kernelspec": {
      "name": "ir",
      "display_name": "R"
    },
    "language_info": {
      "name": "R"
    }
  },
  "cells": [
    {
      "cell_type": "markdown",
      "metadata": {
        "id": "view-in-github",
        "colab_type": "text"
      },
      "source": [
        "<a href=\"https://colab.research.google.com/github/tontantip/DADS6001-Applied-statistics/blob/main/in%20class/Chi_Square.ipynb\" target=\"_parent\"><img src=\"https://colab.research.google.com/assets/colab-badge.svg\" alt=\"Open In Colab\"/></a>"
      ]
    },
    {
      "cell_type": "markdown",
      "source": [
        "ตัวอย่างข้อโยนลูกเต๋า"
      ],
      "metadata": {
        "id": "rq6WP-R-IJP2"
      }
    },
    {
      "cell_type": "code",
      "execution_count": 6,
      "metadata": {
        "colab": {
          "base_uri": "https://localhost:8080/",
          "height": 34
        },
        "id": "WkftocbEsYuX",
        "outputId": "86ca921b-cbd2-40f7-9ae3-8e869f7320bd"
      },
      "outputs": [
        {
          "output_type": "display_data",
          "data": {
            "text/html": [
              "11.0704976935164"
            ],
            "text/markdown": "11.0704976935164",
            "text/latex": "11.0704976935164",
            "text/plain": [
              "[1] 11.0705"
            ]
          },
          "metadata": {}
        }
      ],
      "source": [
        "qchisq(1-0.05,df = 6-1)"
      ]
    },
    {
      "cell_type": "code",
      "source": [
        "obs <- c(20,22,17,18,19,24)\n",
        "prob <- c(1/6,1/6,1/6,1/6,1/6,1/6)\n",
        "chisq.test(obs,p = prob)"
      ],
      "metadata": {
        "colab": {
          "base_uri": "https://localhost:8080/",
          "height": 104
        },
        "id": "2isecn2rGhLD",
        "outputId": "7367a895-b3cc-47ec-ab0a-bd7eb447ab4a"
      },
      "execution_count": 21,
      "outputs": [
        {
          "output_type": "display_data",
          "data": {
            "text/plain": [
              "\n",
              "\tChi-squared test for given probabilities\n",
              "\n",
              "data:  obs\n",
              "X-squared = 1.7, df = 5, p-value = 0.8889\n"
            ]
          },
          "metadata": {}
        }
      ]
    },
    {
      "cell_type": "markdown",
      "source": [
        "ตัวอย่างสีย้อมผม"
      ],
      "metadata": {
        "id": "J7mJQ6gFIRJm"
      }
    },
    {
      "cell_type": "code",
      "source": [
        "qchisq(1-0.05,df = 4-1)"
      ],
      "metadata": {
        "colab": {
          "base_uri": "https://localhost:8080/",
          "height": 34
        },
        "id": "WpKuul18EMpZ",
        "outputId": "8a396fbf-de4e-4bc0-a4df-e24a68b45e88"
      },
      "execution_count": 7,
      "outputs": [
        {
          "output_type": "display_data",
          "data": {
            "text/html": [
              "7.81472790325118"
            ],
            "text/markdown": "7.81472790325118",
            "text/latex": "7.81472790325118",
            "text/plain": [
              "[1] 7.814728"
            ]
          },
          "metadata": {}
        }
      ]
    },
    {
      "cell_type": "code",
      "source": [
        "obs <- c(71,66,30,16)\n",
        "p <- c(0.35,0.35,0.20,0.10)\n",
        "chisq.test(obs, p = p)"
      ],
      "metadata": {
        "colab": {
          "base_uri": "https://localhost:8080/",
          "height": 104
        },
        "id": "YWDaiZcCyh2Q",
        "outputId": "a07ed0c0-2b3e-4663-c29d-525caed15537"
      },
      "execution_count": 22,
      "outputs": [
        {
          "output_type": "display_data",
          "data": {
            "text/plain": [
              "\n",
              "\tChi-squared test for given probabilities\n",
              "\n",
              "data:  obs\n",
              "X-squared = 2.2927, df = 3, p-value = 0.5139\n"
            ]
          },
          "metadata": {}
        }
      ]
    }
  ]
}